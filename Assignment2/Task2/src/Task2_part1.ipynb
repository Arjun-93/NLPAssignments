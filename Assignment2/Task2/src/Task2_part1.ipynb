{
 "cells": [
  {
   "cell_type": "markdown",
   "metadata": {},
   "source": [
    "### __Task 2: Part 1__\n",
    "Write a code for BIO (Beginning-Intermediate-Outside) chunking of the given dataset for Tast_2 (for the\n",
    "three splits). Tokenization should be done based on space, and each token needs to be assigned a BIO\n",
    "label (in format B, I, O)."
   ]
  },
  {
   "cell_type": "markdown",
   "metadata": {},
   "source": [
    "__Importing necessary libraries__"
   ]
  },
  {
   "cell_type": "code",
   "execution_count": null,
   "metadata": {},
   "outputs": [],
   "source": [
    "import re\n",
    "import random\n",
    "import simplejson as json"
   ]
  },
  {
   "cell_type": "markdown",
   "metadata": {},
   "source": [
    "__Loading datasets from JSON__"
   ]
  },
  {
   "cell_type": "code",
   "execution_count": null,
   "metadata": {},
   "outputs": [],
   "source": [
    "# Loading train data JSON\n",
    "with open('../data/Laptop_Review_Train.json','r') as f:\n",
    "    train_json = json.load(f)\n",
    "# Loading val data JSON\n",
    "with open('../data/Laptop_Review_Val.json','r') as f:\n",
    "    val_json = json.load(f)\n",
    "# Loading test data JSON\n",
    "with open('../data/Laptop_Review_Test.json','r') as f:\n",
    "    test_json = json.load(f)"
   ]
  },
  {
   "cell_type": "code",
   "execution_count": null,
   "metadata": {},
   "outputs": [],
   "source": []
  }
 ],
 "metadata": {
  "language_info": {
   "name": "python"
  }
 },
 "nbformat": 4,
 "nbformat_minor": 2
}

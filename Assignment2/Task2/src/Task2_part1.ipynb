{
 "cells": [
  {
   "cell_type": "markdown",
   "metadata": {},
   "source": [
    "### __Task 2: Part 1__\n",
    "Write a code for BIO (Beginning-Intermediate-Outside) chunking of the given dataset for Tast_2 (for the\n",
    "three splits). Tokenization should be done based on space, and each token needs to be assigned a BIO\n",
    "label (in format B, I, O)."
   ]
  },
  {
   "cell_type": "markdown",
   "metadata": {},
   "source": [
    "__Importing necessary libraries__"
   ]
  },
  {
   "cell_type": "code",
   "execution_count": 14,
   "metadata": {},
   "outputs": [],
   "source": [
    "import json"
   ]
  },
  {
   "cell_type": "markdown",
   "metadata": {},
   "source": [
    "__Loading datasets from JSON__"
   ]
  },
  {
   "cell_type": "code",
   "execution_count": 15,
   "metadata": {},
   "outputs": [],
   "source": [
    "# Loading train, val and test data JSON\n",
    "with open('../data/Laptop_Review_Train.json','r') as f:\n",
    "    train_json = json.load(f)\n",
    "with open('../data/Laptop_Review_Val.json','r') as f:\n",
    "    val_json = json.load(f)\n",
    "with open('../data/Laptop_Review_Test.json','r') as f:\n",
    "    test_json = json.load(f)"
   ]
  },
  {
   "cell_type": "code",
   "execution_count": 16,
   "metadata": {},
   "outputs": [],
   "source": [
    "# Helper function to generate BIO labels \n",
    "def generate_bio_labels(words, aspects):\n",
    "    labels = ['O'] * len(words)\n",
    "    \n",
    "    for aspect in aspects:\n",
    "        for i in range(aspect['from'], aspect['to']):\n",
    "            if i == aspect['from']:\n",
    "                labels[i] = 'B'\n",
    "            else:\n",
    "                labels[i] = 'I'\n",
    "    \n",
    "    return labels\n",
    "\n",
    "# Main function to process the dataset and save it to a file\n",
    "def process_dataset(input_data, output_filename):\n",
    "    output_data = {}\n",
    "    \n",
    "    for idx, entry in enumerate(input_data):\n",
    "        raw_text = entry['raw_words']\n",
    "        words = entry['words']\n",
    "        aspects = entry.get('aspects', [])\n",
    "        bio_labels = generate_bio_labels(words, aspects)\n",
    "        output_data[idx + 1] = {\n",
    "            'text': raw_text,\n",
    "            'labels': bio_labels\n",
    "        }\n",
    "\n",
    "    with open(output_filename, 'w') as output_file:\n",
    "        json.dump(output_data, output_file, indent=2)"
   ]
  },
  {
   "cell_type": "code",
   "execution_count": 17,
   "metadata": {},
   "outputs": [],
   "source": [
    "# Generating the BIO Labelled JSON files\n",
    "process_dataset(train_json, '../data/ATE_train.json')\n",
    "process_dataset(train_json, '../data/ATE_val.json')\n",
    "process_dataset(train_json, '../data/ATE_test.json')"
   ]
  }
 ],
 "metadata": {
  "kernelspec": {
   "display_name": "Python 3",
   "language": "python",
   "name": "python3"
  },
  "language_info": {
   "codemirror_mode": {
    "name": "ipython",
    "version": 3
   },
   "file_extension": ".py",
   "mimetype": "text/x-python",
   "name": "python",
   "nbconvert_exporter": "python",
   "pygments_lexer": "ipython3",
   "version": "3.11.8"
  }
 },
 "nbformat": 4,
 "nbformat_minor": 2
}

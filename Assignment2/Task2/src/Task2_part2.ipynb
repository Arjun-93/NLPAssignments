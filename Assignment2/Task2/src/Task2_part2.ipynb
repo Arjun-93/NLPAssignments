{
 "cells": [
  {
   "cell_type": "markdown",
   "metadata": {},
   "source": [
    "### Importing libraries"
   ]
  },
  {
   "cell_type": "code",
   "execution_count": 2,
   "metadata": {},
   "outputs": [],
   "source": [
    "import torch\n",
    "import torch.nn as nn\n",
    "import torch.optim as optim\n",
    "import gensim.downloader as gensim_api\n",
    "import numpy as np\n",
    "import json\n",
    "\n",
    "# Load word embeddings\n",
    "word2vec = gensim_api.load(\"word2vec-google-news-300\")\n",
    "glove = gensim_api.load(\"glove-wiki-gigaword-300\")\n",
    "fasttext = gensim_api.load(\"fasttext-wiki-news-subwords-300\")"
   ]
  },
  {
   "cell_type": "markdown",
   "metadata": {},
   "source": [
    "### Loading Dataset (Json)"
   ]
  },
  {
   "cell_type": "code",
   "execution_count": 20,
   "metadata": {},
   "outputs": [],
   "source": [
    "with open('../data/ATE_Train.json','r') as f:\n",
    "    train_json = json.load(f)\n",
    "with open('../data/ATE_Val.json','r') as f:\n",
    "    val_json = json.load(f)\n",
    "with open('../data/ATE_Test.json','r') as f:\n",
    "    test_json = json.load(f)"
   ]
  },
  {
   "cell_type": "code",
   "execution_count": 21,
   "metadata": {},
   "outputs": [],
   "source": [
    "def get_embeddings(text, embeddings):\n",
    "    words = text.split()\n",
    "    embeddings_list = [embeddings[word] if word in embeddings else np.zeros(embeddings.vector_size) for word in words]\n",
    "    return torch.tensor(embeddings_list, dtype=torch.float32)\n",
    "\n",
    "# Convert JSON dataset to numerical format\n",
    "def get_dataset(word_embedding, json_file, label_mapping):\n",
    "    numerical_dataset = []\n",
    "    for key, example in json_file.items():\n",
    "        text_embeddings = get_embeddings(example[\"text\"], word_embedding)\n",
    "        label_sequence = torch.tensor([label_mapping[label] for label in example[\"labels\"]], dtype=torch.float32)\n",
    "        numerical_dataset.append((text_embeddings, label_sequence))\n",
    "    return numerical_dataset"
   ]
  },
  {
   "cell_type": "code",
   "execution_count": 22,
   "metadata": {},
   "outputs": [
    {
     "name": "stderr",
     "output_type": "stream",
     "text": [
      "C:\\Users\\Arjun Mehra\\AppData\\Local\\Temp\\ipykernel_3632\\2760256805.py:4: UserWarning: Creating a tensor from a list of numpy.ndarrays is extremely slow. Please consider converting the list to a single numpy.ndarray with numpy.array() before converting to a tensor. (Triggered internally at ..\\torch\\csrc\\utils\\tensor_new.cpp:278.)\n",
      "  return torch.tensor(embeddings_list, dtype=torch.float32)\n"
     ]
    }
   ],
   "source": [
    "label_mapping = {\"B\": 0, \"I\": 1, \"O\": 2}\n",
    "word2vec_train_embeddings = get_dataset(word_embedding=word2vec, json_file=train_json, label_mapping=label_mapping)\n",
    "word2vec_val_embeddings = get_dataset(word_embedding=word2vec, json_file=val_json, label_mapping=label_mapping)\n",
    "# glove_embeddings = get_dataset(word_embdeding=glove)\n",
    "# fasttext_embeddings = get_dataset(word_embdeding=fasttext)"
   ]
  },
  {
   "cell_type": "markdown",
   "metadata": {},
   "source": [
    "### Models (RNN, LSTM, GRU)"
   ]
  },
  {
   "cell_type": "code",
   "execution_count": 23,
   "metadata": {},
   "outputs": [],
   "source": [
    "class VanillaRNN(nn.Module):\n",
    "    def __init__(self, input_size, hidden_size, output_size):\n",
    "        super(VanillaRNN, self).__init__()\n",
    "        self.hidden_size = hidden_size\n",
    "        self.rnn = nn.RNN(input_size, hidden_size, batch_first=True)\n",
    "        self.fc = nn.Linear(hidden_size, output_size)\n",
    "\n",
    "    def forward(self, x):\n",
    "        h0 = torch.zeros(1, x.size(0), self.hidden_size).to(x.device)  # Initialize hidden state\n",
    "        out, _ = self.rnn(x, h0)\n",
    "        out = self.fc(out)\n",
    "        return out\n",
    "\n",
    "class LSTMModel(nn.Module):\n",
    "    def __init__(self, input_size, hidden_size, output_size):\n",
    "        super(VanillaRNN, self).__init__()\n",
    "        self.hidden_size = hidden_size\n",
    "        self.rnn = nn.LSTM(input_size, hidden_size, batch_first=True)\n",
    "        self.fc = nn.Linear(hidden_size, output_size)\n",
    "\n",
    "    def forward(self, x):\n",
    "        h0 = torch.zeros(1, x.size(0), self.hidden_size).to(x.device)  # Initialize hidden state\n",
    "        out, _ = self.rnn(x, h0)\n",
    "        out = self.fc(out)\n",
    "        return out\n",
    "\n",
    "class GRUModel(nn.Module):\n",
    "    def __init__(self, input_size, hidden_size, output_size):\n",
    "        super(VanillaRNN, self).__init__()\n",
    "        self.hidden_size = hidden_size\n",
    "        self.rnn = nn.GRU(input_size, hidden_size, batch_first=True)\n",
    "        self.fc = nn.Linear(hidden_size, output_size)\n",
    "\n",
    "    def forward(self, x):\n",
    "        h0 = torch.zeros(1, x.size(0), self.hidden_size).to(x.device)  # Initialize hidden state\n",
    "        out, _ = self.rnn(x, h0)\n",
    "        out = self.fc(out)\n",
    "        return out"
   ]
  },
  {
   "cell_type": "markdown",
   "metadata": {},
   "source": [
    "### Train and loss functions"
   ]
  },
  {
   "cell_type": "code",
   "execution_count": 36,
   "metadata": {},
   "outputs": [],
   "source": [
    "\n",
    "import warnings\n",
    "with warnings.catch_warnings():\n",
    "    warnings.simplefilter(\"ignore\")"
   ]
  },
  {
   "cell_type": "code",
   "execution_count": 34,
   "metadata": {},
   "outputs": [],
   "source": [
    "from sklearn.metrics import f1_score\n",
    "import matplotlib.pyplot as plt\n",
    "\n",
    "def train_model(model, train_data, val_data, criterion, optimizer, num_epochs=5):\n",
    "    train_losses = []\n",
    "    val_losses = []\n",
    "    train_f1_scores = []\n",
    "    val_f1_scores = []\n",
    "\n",
    "    for epoch in range(num_epochs):\n",
    "        model.train()\n",
    "        for inputs, labels in train_data:\n",
    "            # print(inputs.shape)\n",
    "            optimizer.zero_grad()\n",
    "            inputs = inputs.unsqueeze(0)\n",
    "            \n",
    "            outputs = model(inputs)\n",
    "            # print(outputs.shape)\n",
    "            # print(labels.dtype)\n",
    "            # print(type(outputs), type(inputs), type(labels))\n",
    "            \n",
    "            outputs = outputs.to(torch.float)\n",
    "            labels = torch.tensor(labels, dtype=torch.long)\n",
    "            # print(outputs.shape, labels.shape)\n",
    "            loss = criterion(outputs.view(-1, output_size), labels)\n",
    "            loss.backward()\n",
    "            optimizer.step()\n",
    "\n",
    "        # Validation\n",
    "        model.eval()\n",
    "        val_loss = 0.0\n",
    "        predictions = []\n",
    "        true_labels = []\n",
    "        with torch.no_grad():\n",
    "            for inputs, labels in val_data:\n",
    "                # Add a batch dimension to the inputs\n",
    "                inputs = inputs.unsqueeze(0)\n",
    "                outputs = model(inputs)\n",
    "                labels = torch.tensor(labels, dtype=torch.long)\n",
    "                val_loss += criterion(outputs.view(-1, output_size), labels)\n",
    "                _, predicted = torch.max(outputs, 2)\n",
    "                predictions.extend(predicted.view(-1).cpu().numpy())\n",
    "                true_labels.extend(labels.view(-1).cpu().numpy())\n",
    "\n",
    "        val_loss /= len(val_data)\n",
    "        train_losses.append(loss.item())\n",
    "        val_losses.append(val_loss)\n",
    "\n",
    "        # Calculate F1 scores\n",
    "        train_f1 = f1_score(true_labels, predictions, average='macro')\n",
    "        val_f1 = f1_score(true_labels, predictions, average='macro')\n",
    "        train_f1_scores.append(train_f1)\n",
    "        val_f1_scores.append(val_f1)\n",
    "\n",
    "        print(f'Epoch {epoch + 1}/{num_epochs}, Validation Loss: {val_loss:.4f}, F1 Score: {val_f1:.4f}')\n",
    "\n",
    "    # Function to plot loss\n",
    "    def plot_loss(train_losses, val_losses):\n",
    "        plt.plot(range(1, len(train_losses) + 1), train_losses, label='Training Loss')\n",
    "        plt.plot(range(1, len(val_losses) + 1), val_losses, label='Validation Loss')\n",
    "        plt.xlabel('Epochs')\n",
    "        plt.ylabel('Loss')\n",
    "        plt.title('Training and Validation Loss')\n",
    "        plt.legend()\n",
    "        plt.show()\n",
    "\n",
    "    # Function to plot F1 score\n",
    "    def plot_f1_score(train_f1_scores, val_f1_scores):\n",
    "        plt.plot(range(1, len(train_f1_scores) + 1), train_f1_scores, label='Training F1 Score')\n",
    "        plt.plot(range(1, len(val_f1_scores) + 1), val_f1_scores, label='Validation F1 Score')\n",
    "        plt.xlabel('Epochs')\n",
    "        plt.ylabel('F1 Score')\n",
    "        plt.title('Training and Validation F1 Score')\n",
    "        plt.legend()\n",
    "        plt.show()\n",
    "    plot_loss(train_losses, val_losses)\n",
    "    plot_f1_score(train_f1_scores, val_f1_scores)\n"
   ]
  },
  {
   "cell_type": "code",
   "execution_count": 35,
   "metadata": {},
   "outputs": [
    {
     "name": "stderr",
     "output_type": "stream",
     "text": [
      "C:\\Users\\Arjun Mehra\\AppData\\Local\\Temp\\ipykernel_3632\\3813339420.py:23: UserWarning: To copy construct from a tensor, it is recommended to use sourceTensor.clone().detach() or sourceTensor.clone().detach().requires_grad_(True), rather than torch.tensor(sourceTensor).\n",
      "  labels = torch.tensor(labels, dtype=torch.long)\n"
     ]
    },
    {
     "name": "stderr",
     "output_type": "stream",
     "text": [
      "C:\\Users\\Arjun Mehra\\AppData\\Local\\Temp\\ipykernel_3632\\3813339420.py:39: UserWarning: To copy construct from a tensor, it is recommended to use sourceTensor.clone().detach() or sourceTensor.clone().detach().requires_grad_(True), rather than torch.tensor(sourceTensor).\n",
      "  labels = torch.tensor(labels, dtype=torch.long)\n"
     ]
    },
    {
     "name": "stdout",
     "output_type": "stream",
     "text": [
      "Epoch 1/5, Validation Loss: 0.1892, F1 Score: 0.7654\n"
     ]
    },
    {
     "name": "stderr",
     "output_type": "stream",
     "text": [
      "C:\\Users\\Arjun Mehra\\AppData\\Local\\Temp\\ipykernel_3632\\3813339420.py:23: UserWarning: To copy construct from a tensor, it is recommended to use sourceTensor.clone().detach() or sourceTensor.clone().detach().requires_grad_(True), rather than torch.tensor(sourceTensor).\n",
      "  labels = torch.tensor(labels, dtype=torch.long)\n",
      "C:\\Users\\Arjun Mehra\\AppData\\Local\\Temp\\ipykernel_3632\\3813339420.py:39: UserWarning: To copy construct from a tensor, it is recommended to use sourceTensor.clone().detach() or sourceTensor.clone().detach().requires_grad_(True), rather than torch.tensor(sourceTensor).\n",
      "  labels = torch.tensor(labels, dtype=torch.long)\n"
     ]
    },
    {
     "name": "stdout",
     "output_type": "stream",
     "text": [
      "Epoch 2/5, Validation Loss: 0.1544, F1 Score: 0.7840\n"
     ]
    },
    {
     "name": "stderr",
     "output_type": "stream",
     "text": [
      "C:\\Users\\Arjun Mehra\\AppData\\Local\\Temp\\ipykernel_3632\\3813339420.py:23: UserWarning: To copy construct from a tensor, it is recommended to use sourceTensor.clone().detach() or sourceTensor.clone().detach().requires_grad_(True), rather than torch.tensor(sourceTensor).\n",
      "  labels = torch.tensor(labels, dtype=torch.long)\n",
      "C:\\Users\\Arjun Mehra\\AppData\\Local\\Temp\\ipykernel_3632\\3813339420.py:39: UserWarning: To copy construct from a tensor, it is recommended to use sourceTensor.clone().detach() or sourceTensor.clone().detach().requires_grad_(True), rather than torch.tensor(sourceTensor).\n",
      "  labels = torch.tensor(labels, dtype=torch.long)\n"
     ]
    },
    {
     "name": "stdout",
     "output_type": "stream",
     "text": [
      "Epoch 3/5, Validation Loss: 0.1440, F1 Score: 0.8024\n"
     ]
    },
    {
     "name": "stderr",
     "output_type": "stream",
     "text": [
      "C:\\Users\\Arjun Mehra\\AppData\\Local\\Temp\\ipykernel_3632\\3813339420.py:23: UserWarning: To copy construct from a tensor, it is recommended to use sourceTensor.clone().detach() or sourceTensor.clone().detach().requires_grad_(True), rather than torch.tensor(sourceTensor).\n",
      "  labels = torch.tensor(labels, dtype=torch.long)\n",
      "C:\\Users\\Arjun Mehra\\AppData\\Local\\Temp\\ipykernel_3632\\3813339420.py:39: UserWarning: To copy construct from a tensor, it is recommended to use sourceTensor.clone().detach() or sourceTensor.clone().detach().requires_grad_(True), rather than torch.tensor(sourceTensor).\n",
      "  labels = torch.tensor(labels, dtype=torch.long)\n"
     ]
    },
    {
     "name": "stdout",
     "output_type": "stream",
     "text": [
      "Epoch 4/5, Validation Loss: 0.1431, F1 Score: 0.8079\n"
     ]
    },
    {
     "name": "stderr",
     "output_type": "stream",
     "text": [
      "C:\\Users\\Arjun Mehra\\AppData\\Local\\Temp\\ipykernel_3632\\3813339420.py:23: UserWarning: To copy construct from a tensor, it is recommended to use sourceTensor.clone().detach() or sourceTensor.clone().detach().requires_grad_(True), rather than torch.tensor(sourceTensor).\n",
      "  labels = torch.tensor(labels, dtype=torch.long)\n",
      "C:\\Users\\Arjun Mehra\\AppData\\Local\\Temp\\ipykernel_3632\\3813339420.py:39: UserWarning: To copy construct from a tensor, it is recommended to use sourceTensor.clone().detach() or sourceTensor.clone().detach().requires_grad_(True), rather than torch.tensor(sourceTensor).\n",
      "  labels = torch.tensor(labels, dtype=torch.long)\n"
     ]
    },
    {
     "name": "stdout",
     "output_type": "stream",
     "text": [
      "Epoch 5/5, Validation Loss: 0.1316, F1 Score: 0.8220\n"
     ]
    },
    {
     "data": {
      "image/png": "[encoded data removed]",
      "text/plain": [
       "<Figure size 640x480 with 1 Axes>"
      ]
     },
     "metadata": {},
     "output_type": "display_data"
    },
    {
     "data": {
      "image/png": "[encoded data removed]",
      "text/plain": [
       "<Figure size 640x480 with 1 Axes>"
      ]
     },
     "metadata": {},
     "output_type": "display_data"
    }
   ],
   "source": [
    "input_size = 300\n",
    "hidden_size = 128\n",
    "output_size = 3  # Number of classes (BIO tags)\n",
    "learning_rate = 0.01\n",
    "\n",
    "model = VanillaRNN(input_size, hidden_size, output_size)\n",
    "\n",
    "# # Loop through different embeddings and models\n",
    "# embeddings = {\n",
    "#     'word2vec': word2vec,\n",
    "#     'glove': glove,\n",
    "#     'fasttext': fasttext\n",
    "# }\n",
    "# models = {\n",
    "#     'vanilla_rnn': VanillaRNNModel,\n",
    "#     'lstm': LSTMModel,\n",
    "#     'gru': GRUModel\n",
    "# }\n",
    "\n",
    "criterion = nn.CrossEntropyLoss()\n",
    "optimizer = optim.Adam(model.parameters(), lr=0.001)\n",
    "train_model(model, word2vec_train_embeddings, word2vec_val_embeddings, criterion, optimizer, num_epochs=5)"
   ]
  },
  {
   "cell_type": "markdown",
   "metadata": {},
   "source": [
    "### Training### --------------------------------."
   ]
  },
  {
   "cell_type": "markdown",
   "metadata": {},
   "source": [
    "### Calculating F1-score for test dataset"
   ]
  },
  {
   "cell_type": "code",
   "execution_count": null,
   "metadata": {},
   "outputs": [],
   "source": [
    "import torch\n",
    "from sklearn.metrics import f1_score\n",
    "\n",
    "def calculate_f1_score(model, test_loader):\n",
    "    model.eval()\n",
    "    predictions = []\n",
    "    true_labels = []\n",
    "    with torch.no_grad():\n",
    "        for inputs, labels in test_loader:\n",
    "            outputs = model(inputs)\n",
    "            _, predicted = torch.max(outputs, 2)\n",
    "            predictions.extend(predicted.view(-1).cpu().numpy())\n",
    "            true_labels.extend(labels.view(-1).cpu().numpy())\n",
    "    test_f1 = f1_score(true_labels, predictions, average='macro')\n",
    "    return test_f1\n"
   ]
  },
  {
   "cell_type": "markdown",
   "metadata": {},
   "source": [
    "----------------------------------------------------------------------------- EOF --------------------------------------------------------------------------------"
   ]
  }
 ],
 "metadata": {
  "kernelspec": {
   "display_name": "Python 3",
   "language": "python",
   "name": "python3"
  },
  "language_info": {
   "codemirror_mode": {
    "name": "ipython",
    "version": 3
   },
   "file_extension": ".py",
   "mimetype": "text/x-python",
   "name": "python",
   "nbconvert_exporter": "python",
   "pygments_lexer": "ipython3",
   "version": "3.11.5"
  }
 },
 "nbformat": 4,
 "nbformat_minor": 2
}

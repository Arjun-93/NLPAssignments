{
 "cells": [
  {
   "cell_type": "markdown",
   "metadata": {},
   "source": [
    "__Importing essential libraries__"
   ]
  },
  {
   "cell_type": "code",
   "execution_count": 70,
   "metadata": {},
   "outputs": [],
   "source": [
    "import numpy as np\n",
    "import random\n",
    "from collections import defaultdict"
   ]
  },
  {
   "cell_type": "markdown",
   "metadata": {},
   "source": [
    "__Creating the BigramLM class__"
   ]
  },
  {
   "cell_type": "code",
   "execution_count": 200,
   "metadata": {},
   "outputs": [],
   "source": [
    "class BigramLM: \n",
    "    '''\n",
    "    BigramLM: Provides the functional definition of a bigram language model.\n",
    "    '''\n",
    "    def __init__(self):\n",
    "        '''\n",
    "        BRIEF:      Constructor for the creation of bigram LM.\n",
    "        PARAMETERS: None.\n",
    "        '''\n",
    "        self.bigramCounts = defaultdict(lambda: defaultdict(int))  \n",
    "        self.vocabulary = defaultdict(int) # Vocabulary for learning\n",
    "        self.tokenInitiate = '<s>'  # Token for start of sentence\n",
    "        self.tokenTerminate = '</s>'   # Token for end of sentence\n",
    "\n",
    "    def __tokenize_text(self, text):\n",
    "        '''\n",
    "        BRIEF:      (Internal method) Tokenizing the sentence into a word list.\n",
    "        PARAMETERS: The sentence to be tokenized (text).\n",
    "        RETURN:     list of tokens in the sentence.\n",
    "        '''\n",
    "        return [self.tokenInitiate] + text.split() + [self.tokenTerminate]\n",
    "\n",
    "    def __simple_probabilities(self, current_word, next_word_candidates):\n",
    "        '''\n",
    "        BRIEF:      (Internal method) Calculating simple bigram probabilities.\n",
    "        PARAMETERS: Last word (current_word) | Candidates for the next word (next_word_candidates).\n",
    "        '''\n",
    "        return [(self.bigramCounts[current_word][next_word]) / (sum(self.bigramCounts[current_word].values()))\n",
    "                    for next_word in next_word_candidates]\n",
    "\n",
    "    def __laplace_probabilities(self, current_word, next_word_candidates):\n",
    "        '''\n",
    "        BRIEF:      (Internal method) Computing the Laplace probabilities given the last word.\n",
    "        PARAMETERS: Last word (current_word) | Candidates for the next word (next_word_candidates).\n",
    "        '''\n",
    "        return [(self.bigramCounts[current_word][next_word] + 1) / (sum(self.bigramCounts[current_word].values()) + len(next_word_candidates))\n",
    "                    for next_word in next_word_candidates]\n",
    "          \n",
    "    def __knesser_ney_smoothing(self):\n",
    "        '''\n",
    "        BRIEF:      (Internal method) Performing Knesser-Ney smoothing.\n",
    "        PARAMETERS: None.\n",
    "        '''\n",
    "        pass\n",
    "\n",
    "    def fit(self, corpus):\n",
    "        '''\n",
    "        BRIEF:      Learning the bigram model from the given corpus.\n",
    "        PARAMETERS: The corpus of samples for learning (corpus).\n",
    "        ''' \n",
    "        for sentence in corpus:\n",
    "            tokens = self.__tokenize_text(sentence)\n",
    "            for i in range(len(tokens) - 1):\n",
    "                current_word, next_word = tokens[i], tokens[i + 1]\n",
    "                self.bigramCounts[current_word][next_word] += 1\n",
    "                self.vocabulary[current_word] += 1\n",
    "        \n",
    "    def generate_sentence(self, numWords, smoothing=None):\n",
    "        '''\n",
    "        BRIEF:      Generating a sentence of a given word-count and using a given smoothing.\n",
    "        PARAMETERS: Word-count (numWords) | The smoothing technique to use (smoothing).\n",
    "        RETURN:     The generated sentence as a string.\n",
    "        '''\n",
    "        current_word = self.tokenInitiate\n",
    "        sentence = []\n",
    "        \n",
    "        for _ in range(numWords):\n",
    "            \n",
    "            # next_word_candidates = list(self.bigramCounts[current_word].keys())\n",
    "            next_word_candidates = list(self.vocabulary.keys())\n",
    "            probabilities = []\n",
    "            # TODO: Kneser-Ney Smoothing\n",
    "            if smoothing == 'laplace':\n",
    "                probabilities = self.__laplace_probabilities(current_word, next_word_candidates)\n",
    "            else:\n",
    "                probabilities = self.__simple_probabilities(current_word, next_word_candidates)\n",
    "            \n",
    "            next_word = '<s>'\n",
    "            while next_word == '<s>':\n",
    "                next_word = random.choices(next_word_candidates, probabilities)[0]\n",
    "                        \n",
    "            if next_word == '</s>':\n",
    "                break\n",
    "\n",
    "            sentence.append(next_word)\n",
    "            current_word = next_word\n",
    "        \n",
    "        return \" \".join(sentence)\n"
   ]
  },
  {
   "cell_type": "markdown",
   "metadata": {},
   "source": [
    "__Working with BigramLM__"
   ]
  },
  {
   "cell_type": "code",
   "execution_count": 204,
   "metadata": {},
   "outputs": [
    {
     "name": "stdout",
     "output_type": "stream",
     "text": [
      "i feel like a simple though he would be any\n"
     ]
    }
   ],
   "source": [
    "with open('../data/corpus.txt', 'r') as f:\n",
    "    corpus = f.readlines()\n",
    "\n",
    "# Creating a bigram model\n",
    "bigram_model = BigramLM()\n",
    "bigram_model.fit(corpus)\n",
    "\n",
    "sentence = \"\"\n",
    "\n",
    "try:\n",
    "    sentence = bigram_model.generate_sentence(10, smoothing=None)\n",
    "except ValueError:\n",
    "    sentence = bigram_model.generate_sentence(10, smoothing=None)\n",
    "\n",
    "print(sentence)"
   ]
  },
  {
   "cell_type": "code",
   "execution_count": null,
   "metadata": {},
   "outputs": [],
   "source": []
  }
 ],
 "metadata": {
  "kernelspec": {
   "display_name": "Python 3",
   "language": "python",
   "name": "python3"
  },
  "language_info": {
   "codemirror_mode": {
    "name": "ipython",
    "version": 3
   },
   "file_extension": ".py",
   "mimetype": "text/x-python",
   "name": "python",
   "nbconvert_exporter": "python",
   "pygments_lexer": "ipython3",
   "version": "3.11.1"
  }
 },
 "nbformat": 4,
 "nbformat_minor": 2
}

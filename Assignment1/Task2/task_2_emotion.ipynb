{
 "cells": [
  {
   "cell_type": "code",
   "execution_count": 78,
   "metadata": {},
   "outputs": [],
   "source": [
    "# Importing libraries\n",
    "import numpy as np\n",
    "from collections import defaultdict\n",
    "import pandas as pd\n",
    "import warnings\n",
    "warnings.filterwarnings(\"ignore\")"
   ]
  },
  {
   "cell_type": "code",
   "execution_count": 71,
   "metadata": {},
   "outputs": [],
   "source": [
    "with open('bigram_counts.txt', 'r') as f:\n",
    "    emotion = f.read().splitlines()\n",
    "    \n",
    "with open('corpus.txt', 'r') as f:\n",
    "    corpus = f.read().splitlines()"
   ]
  },
  {
   "cell_type": "code",
   "execution_count": 72,
   "metadata": {},
   "outputs": [],
   "source": [
    "bigram_data = pd.DataFrame()"
   ]
  },
  {
   "cell_type": "code",
   "execution_count": 73,
   "metadata": {},
   "outputs": [],
   "source": [
    "bigram_data['word1'] = [i.split('-')[0] for i in emotion]\n",
    "bigram_data['word2'] = [i.split('-')[1] for i in emotion]\n",
    "bigram_data['emotion'] = [i.split('-')[2] for i in emotion]"
   ]
  },
  {
   "cell_type": "markdown",
   "metadata": {},
   "source": [
    "# Main"
   ]
  },
  {
   "cell_type": "code",
   "execution_count": 76,
   "metadata": {},
   "outputs": [],
   "source": [
    "# Class for Bigram Language Model\n",
    "class BigramLM: \n",
    "    def __init__(self):\n",
    "        self.bigramCounts = defaultdict(lambda: defaultdict(int))\n",
    "        # Bigram counts created using defaultdict, \n",
    "        # a dictionary that assigns default values to non-existent keys\n",
    "        self.vocabulary = set() # Vocabulary set created using set() function (a collection of unique elements)\n",
    "        self.tokenInitiate = '<start>'  # Token for start of sentence\n",
    "        self.tokenTerminate = '<end>'   # Token for end of sentence\n",
    "\n",
    "    def tokenize_text(self, text): # Function for tokenizing the text into word list\n",
    "        return [self.tokenInitiate] + text.split() + [self.tokenTerminate]\n",
    "\n",
    "    def learn_model(self, corpus): # Function for learning the bigram model from the given corpus \n",
    "        for sentence in corpus:\n",
    "            tokens = self.tokenize_text(sentence)\n",
    "            for i in range(len(tokens) - 1):\n",
    "                current_word, next_word = tokens[i], tokens[i + 1]\n",
    "                self.bigramCounts[current_word][next_word] += 1\n",
    "                self.vocabulary.add(current_word)\n",
    "\n",
    "    def calculate_bigram_probabilities(self):\n",
    "        self.bigram_probabilities = defaultdict(dict)\n",
    "        for current_word, next_word_counts in self.bigramCounts.items():\n",
    "            total_count = sum(next_word_counts.values())\n",
    "            for next_word, count in next_word_counts.items():\n",
    "                probability = count / total_count\n",
    "                self.bigram_probabilities[current_word][next_word] = probability\n",
    "\n",
    "    def predict_next_word(self, current_word):\n",
    "        if current_word not in self.bigram_probabilities:\n",
    "            return None  # Word not present in training data\n",
    "\n",
    "        next_word_probs = self.bigram_probabilities[current_word]\n",
    "        next_words, probabilities = zip(*next_word_probs.items())\n",
    "        chosen_word = np.random.choice(next_words, p=probabilities)\n",
    "        return chosen_word\n",
    "    \n",
    "    ############################################################\n",
    "    # Added Laplace and KneserNey Smoothing \n",
    "    def calculate_probabilities_LS(self):\n",
    "        self.bigram_probabilities = defaultdict(dict)\n",
    "        for current_word, next_word_counts in self.bigramCounts.items():\n",
    "            total_count = sum(next_word_counts.values())\n",
    "            for next_word, count in next_word_counts.items():\n",
    "                probability = (count + 1) / (total_count + len(self.vocabulary))\n",
    "                self.bigram_probabilities[current_word][next_word] = probability\n",
    "                \n",
    "    def LaplaceSmoothing(self, k=1):\n",
    "        self.calculate_probabilities_LS()\n",
    "        for current_word, next_word_counts in self.bigramCounts.items():\n",
    "            for next_word in next_word_counts:\n",
    "                # Use Laplace-smoothed probabilities\n",
    "                self.bigram_probabilities[current_word][next_word] = self.bigram_probabilities[current_word][next_word]\n",
    "\n",
    "        # Recalculate probabilities after smoothing+\n",
    "        self.calculate_probabilities()\n",
    "        \n",
    "    # implement the KneserNey Smoothing function who returns the discounted count\n",
    "    # assuming d = 0.75 for KneserNey Smoothing\n",
    "    def KneserNeySmoothing(self):\n",
    "        self.unigramCounts = defaultdict(int)\n",
    "        for current_word, next_word_counts in self.bigramCounts.items():\n",
    "            for next_word in next_word_counts:\n",
    "                self.unigramCounts[next_word] += 1\n",
    "        self.calculate_probabilities()\n",
    "        for current_word, next_word_counts in self.bigramCounts.items():\n",
    "            for next_word in next_word_counts:\n",
    "                self.bigram_probabilities[current_word][next_word] = (max(self.bigram_probabilities[current_word][next_word] - 0.75, 0) + 0.75 * len(self.bigram_probabilities[current_word]) * self.unigramCounts[next_word] / sum(self.unigramCounts.values())) / sum(self.bigram_probabilities[current_word].values())\n",
    "        self.calculate_probabilities()\n",
    "\n",
    "    ############################################################\n",
    "    # implement P(wi|wi−1) = (count(wi)/count(wi−1)) + β where β is the emotion score from textfile emotions_scores.txt\n",
    "    def set_emotion_score(self):\n",
    "        pass\n",
    "    \n",
    "    \n",
    "    def emotion_score_probability(self, current_word, emotion_scores, emotion):\n",
    "        self.emotion_score_probability = defaultdict(dict)\n",
    "        # self.emotion_score_probability[word] = float(emotion_score)\n",
    "        for current_word, next_word_counts in self.bigramCounts.items():\n",
    "            for next_word in next_word_counts:\n",
    "                scores = str(emotion_scores[emotion_scores['word1'] == current_word][emotion_scores['word2'] == next_word]['emotion'].values)\n",
    "                # Remove brackets and split the string into individual items\n",
    "                items_str = scores.strip('[]')[2:-3].split('}, ')\n",
    "                items_str = [item + '}' for item in items_str]\n",
    "                items_str[-1] = items_str[-1][:-1]\n",
    "                # Convert each item string to a dictionary\n",
    "                emotions = [eval(item) for item in items_str]\n",
    "                # Find the score associated with the label\n",
    "                emotion_score = 0\n",
    "                for item in emotions:\n",
    "                    if item['label'] == emotion.lower():\n",
    "                        emotion_score = item['score']\n",
    "                # Print the score\n",
    "                # print(f\"Score for {emotion}:\", emotion_score)\n",
    "                self.bigram_probabilities[current_word][next_word] = (self.bigram_probabilities[current_word][next_word] + emotion_score) / 2\n",
    "                \n",
    "        self.calculate_bigram_probabilities()\n",
    "\n",
    "    def generate_emotion_oriented_sample(self, current_word, emotion_scores, emotion):\n",
    "        if current_word not in self.bigram_probabilities:\n",
    "            return None  # Word not present in training data\n",
    "        next_word_probs = self.emotion_score_probability(current_word, emotion_scores, emotion)\n",
    "        if not next_word_probs:\n",
    "            return None  # No emotion score for the current_word\n",
    "        next_words, probabilities = zip(*next_word_probs.items())\n",
    "        chosen_word = np.random.choice(next_words, p=probabilities)\n",
    "        return chosen_word"
   ]
  },
  {
   "cell_type": "code",
   "execution_count": 81,
   "metadata": {},
   "outputs": [],
   "source": [
    "# Creating a bigram model\n",
    "bigram_model = BigramLM()\n",
    "bigram_model.learn_model(corpus[1:])\n",
    "bigram_model.calculate_bigram_probabilities()\n",
    "current_word = \"i\"\n",
    "emotion_type = \"fear\"\n",
    "\n",
    "print(bigram_model.generate_emotion_oriented_sample(current_word, bigram_data, emotion_type))"
   ]
  },
  {
   "cell_type": "code",
   "execution_count": null,
   "metadata": {},
   "outputs": [],
   "source": []
  }
 ],
 "metadata": {
  "kernelspec": {
   "display_name": "Python 3",
   "language": "python",
   "name": "python3"
  },
  "language_info": {
   "codemirror_mode": {
    "name": "ipython",
    "version": 3
   },
   "file_extension": ".py",
   "mimetype": "text/x-python",
   "name": "python",
   "nbconvert_exporter": "python",
   "pygments_lexer": "ipython3",
   "version": "3.11.7"
  }
 },
 "nbformat": 4,
 "nbformat_minor": 2
}
